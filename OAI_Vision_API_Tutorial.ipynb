{
  "cells": [
    {
      "cell_type": "markdown",
      "metadata": {
        "id": "view-in-github",
        "colab_type": "text"
      },
      "source": [
        "<a href=\"https://colab.research.google.com/github/mohitraj/AIChatbot/blob/main/OAI_Vision_API_Tutorial.ipynb\" target=\"_parent\"><img src=\"https://colab.research.google.com/assets/colab-badge.svg\" alt=\"Open In Colab\"/></a>"
      ]
    },
    {
      "cell_type": "code",
      "execution_count": null,
      "metadata": {
        "id": "QCsQ4FcH0XFZ"
      },
      "outputs": [],
      "source": [
        "!pip install openai\n",
        "!pip install -q gradio"
      ]
    },
    {
      "cell_type": "code",
      "execution_count": null,
      "metadata": {
        "id": "kG6wf3xn2en0"
      },
      "outputs": [],
      "source": [
        "# Downloading demo images\n",
        "import os\n",
        "os.mkdir('images')\n",
        "!wget -q -O images/cheetah1.jpg https://github.com/gradio-app/gradio/raw/main/demo/image_mod/images/cheetah1.jpg\n",
        "!wget -q -O images/lion.jpg https://github.com/gradio-app/gradio/raw/main/demo/image_mod/images/lion.jpg\n",
        "!wget -q -O images/tower.jpg https://github.com/gradio-app/gradio/raw/main/demo/image_mod/images/tower.jpg"
      ]
    },
    {
      "cell_type": "code",
      "execution_count": null,
      "metadata": {
        "colab": {
          "base_uri": "https://localhost:8080/"
        },
        "id": "05K65fMu0IXG",
        "outputId": "d3cb3fc1-624c-4d5b-fb36-0f82071641ae"
      },
      "outputs": [
        {
          "name": "stdout",
          "output_type": "stream",
          "text": [
            "Please enter your OpenAI Api Key: ··········\n"
          ]
        }
      ],
      "source": [
        "import openai\n",
        "from getpass import getpass\n",
        "openai.api_key = getpass(\"Please enter your OpenAI Api Key: \")"
      ]
    },
    {
      "cell_type": "markdown",
      "metadata": {
        "id": "Et9Z08Ea2Wkj"
      },
      "source": [
        "# OAI Vision Api Test"
      ]
    },
    {
      "cell_type": "code",
      "execution_count": null,
      "metadata": {
        "id": "i6u_ewxr35_m"
      },
      "outputs": [],
      "source": [
        "import base64\n",
        "\n",
        "# Function to encode the image\n",
        "def encode_image(image_path):\n",
        "    with open(image_path, \"rb\") as image_file:\n",
        "        return base64.b64encode(image_file.read()).decode('utf-8')"
      ]
    },
    {
      "cell_type": "code",
      "execution_count": null,
      "metadata": {
        "colab": {
          "base_uri": "https://localhost:8080/",
          "height": 395
        },
        "id": "NOcytZ7u2WF-",
        "outputId": "74452a54-e3cf-4682-ac92-02e3689c1b43"
      },
      "outputs": [
        {
          "data": {
            "image/jpeg": "[encoded data removed]",
            "text/plain": [
              "<IPython.core.display.Image object>"
            ]
          },
          "metadata": {},
          "output_type": "display_data"
        },
        {
          "name": "stdout",
          "output_type": "stream",
          "text": [
            "The image displays two lions—a prominent male lion with a full, dark\n",
            "mane looking directly at the camera and a lioness lying down facing\n",
            "away from the camera. They appear to be resting on a rock surface,\n",
            "which is typical of their natural habitat where such vantage points\n",
            "are used for rest and observation. The sharp focus on the male lion's\n",
            "face highlights its features and expressions, contributing to a\n",
            "captivating wildlife portrait.\n"
          ]
        }
      ],
      "source": [
        "from IPython.display import display, Image\n",
        "import textwrap\n",
        "\n",
        "image_path = '/content/images/lion.jpg'\n",
        "encoded_image = encode_image(image_path)\n",
        "\n",
        "result = openai.chat.completions.create(\n",
        "    model = \"gpt-4-vision-preview\",\n",
        "    messages=[\n",
        "        {\n",
        "            \"role\": \"user\",\n",
        "            \"content\": [\n",
        "                {\"type\": \"text\",\n",
        "                \"text\": \"Can you please tell me what is displayed on this image?\"},\n",
        "                {\"type\": \"image_url\",\n",
        "                \"image_url\": f\"data:image/jpeg;base64,{encoded_image}\"},\n",
        "            ]\n",
        "        },\n",
        "    ],\n",
        "    max_tokens=300\n",
        ")\n",
        "\n",
        "display(Image(image_path))\n",
        "print(textwrap.fill(result.choices[0].message.content, width=70))"
      ]
    },
    {
      "cell_type": "markdown",
      "metadata": {
        "id": "4_uEXmEW7mBJ"
      },
      "source": [
        "# Image Captioning AI App with Gradio"
      ]
    },
    {
      "cell_type": "code",
      "execution_count": null,
      "metadata": {
        "id": "AEEEPXCs8S6z"
      },
      "outputs": [],
      "source": [
        "def caption_image(image_path):\n",
        "  encoded_image = encode_image(image_path)\n",
        "\n",
        "  result = openai.chat.completions.create(\n",
        "    model = \"gpt-4-vision-preview\",\n",
        "    messages=[\n",
        "        {\n",
        "            \"role\": \"user\",\n",
        "            \"content\": [\n",
        "                {\"type\": \"text\",\n",
        "                \"text\": \"Please provide a descriptive caption for the image along with 10-15 relevant tags.\"},\n",
        "                {\"type\": \"image_url\",\n",
        "                \"image_url\": f\"data:image/jpeg;base64,{encoded_image}\"},\n",
        "            ]\n",
        "        },\n",
        "    ],\n",
        "    max_tokens=300,\n",
        "    )\n",
        "\n",
        "  return result.choices[0].message.content"
      ]
    },
    {
      "cell_type": "code",
      "execution_count": null,
      "metadata": {
        "colab": {
          "base_uri": "https://localhost:8080/",
          "height": 70
        },
        "id": "igomVN1rEyXV",
        "outputId": "8c4635cd-457c-47be-8095-8a808ceec39c"
      },
      "outputs": [
        {
          "data": {
            "application/vnd.google.colaboratory.intrinsic+json": {
              "type": "string"
            },
            "text/plain": [
              "'Caption: A regal male lion with a full mane rests on a rocky outcrop, accompanied by a lioness in the background.\\n\\nTags: #lion, #lioness, #wildlife, #savannah, #predator, #bigcat, #nature, #mammal, #africanwildlife, #kingofthejungle, #feline, #conservation, #animalportrait, #wildlifephotography, #animalkingdom'"
            ]
          },
          "execution_count": 46,
          "metadata": {},
          "output_type": "execute_result"
        }
      ],
      "source": [
        "caption_image('/content/images/lion.jpg')"
      ]
    },
    {
      "cell_type": "code",
      "execution_count": null,
      "metadata": {
        "colab": {
          "base_uri": "https://localhost:8080/",
          "height": 646
        },
        "id": "Lc5jHlmH679G",
        "outputId": "99031549-5ade-49b9-fba6-7e0ec2557257"
      },
      "outputs": [
        {
          "output_type": "stream",
          "name": "stdout",
          "text": [
            "Setting queue=True in a Colab notebook requires sharing enabled. Setting `share=True` (you can turn this off by setting `share=False` in `launch()` explicitly).\n",
            "\n",
            "Colab notebook detected. To show errors in colab notebook, set debug=True in launch()\n",
            "Running on public URL: https://198dff1fae50740b77.gradio.live\n",
            "\n",
            "This share link expires in 72 hours. For free permanent hosting and GPU upgrades, run `gradio deploy` from Terminal to deploy to Spaces (https://huggingface.co/spaces)\n"
          ]
        },
        {
          "output_type": "display_data",
          "data": {
            "text/plain": [
              "<IPython.core.display.HTML object>"
            ],
            "text/html": [
              "<div><iframe src=\"https://198dff1fae50740b77.gradio.live\" width=\"100%\" height=\"500\" allow=\"autoplay; camera; microphone; clipboard-read; clipboard-write;\" frameborder=\"0\" allowfullscreen></iframe></div>"
            ]
          },
          "metadata": {}
        }
      ],
      "source": [
        "import gradio as gr\n",
        "import os\n",
        "\n",
        "\n",
        "demo = gr.Interface(\n",
        "    caption_image,\n",
        "    gr.Image(type=\"filepath\"),\n",
        "    \"text\",\n",
        "    examples=[\n",
        "        os.path.join(os.path.abspath(''), \"images/cheetah1.jpg\"),\n",
        "        os.path.join(os.path.abspath(''), \"images/lion.jpg\"),\n",
        "        os.path.join(os.path.abspath(''), \"images/tower.jpg\"),\n",
        "    ],\n",
        ")\n",
        "\n",
        "if __name__ == \"__main__\":\n",
        "    demo.launch()"
      ]
    },
    {
      "cell_type": "code",
      "execution_count": null,
      "metadata": {
        "id": "JCZXtEzaTAkK"
      },
      "outputs": [],
      "source": []
    }
  ],
  "metadata": {
    "colab": {
      "provenance": [],
      "include_colab_link": true
    },
    "kernelspec": {
      "display_name": "Python 3",
      "name": "python3"
    },
    "language_info": {
      "name": "python"
    }
  },
  "nbformat": 4,
  "nbformat_minor": 0
}